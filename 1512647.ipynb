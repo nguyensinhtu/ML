{
 "cells": [
  {
   "cell_type": "markdown",
   "metadata": {},
   "source": [
    "## câu 1 [d]\n",
    "Câu trả lời : <br>\n",
    "Ta có bất đẳng thức VC : $P[|E_{out} - E_{in}| > \\epsilon] \\le 4m_{H}(2N)e^{-\\frac{1}{8}\\epsilon^{2}N}$ <br>\n",
    "gọi $\\delta  = 4m_{H}(2N)e^{-\\frac{1}{8}\\epsilon^{2}N}$  $\\rightarrow$ $\\epsilon = \\sqrt{\\frac{8}{N}\\ln(\\frac{4m_{H}(2N)}{\\delta})}$ Giải bất phường trình Tìm $N$ <br>\n",
    "Ta có : $N \\ge \\frac{8}{\\epsilon^{2}}\\ln{\\frac{4(2N)^{d_{vc}} + 1}{\\delta}} $ với $d_{vc} = 10$, $1 - \\delta = 0.95 \\rightarrow \\delta = 0.05$, $\\epsilon = 0.05$ <br>\n",
    "\n",
    "Ta dùng một đoạn trường trình nhỏ để tính $N$"
   ]
  },
  {
   "cell_type": "code",
   "execution_count": 10,
   "metadata": {},
   "outputs": [
    {
     "name": "stdout",
     "output_type": "stream",
     "text": [
      "closest numerical approximation of the sample size that the VC generalization bound : 452956.8645605733\n"
     ]
    }
   ],
   "source": [
    "import numpy as np\n",
    "def Tinh_N(dvc = 10, delta = 0.05, epsilon = 0.05):\n",
    "    init_N = 1000.0;\n",
    "    \"ta chạy vòng lặp tìm N tới khi nào N thảo bất phường trình trên\"\n",
    "    while True:\n",
    "        res = (8/np.power(epsilon, 2))*(np.log((4*np.power(2*init_N, dvc) + 1)/(delta)))\n",
    "        if (res - init_N <= 0.01):\n",
    "            init_N = res\n",
    "            break\n",
    "        init_N = res\n",
    "    print(\"closest numerical approximation of the sample size that the VC generalization bound : \" + str(init_N))\n",
    "Tinh_N()"
   ]
  },
  {
   "cell_type": "markdown",
   "metadata": {},
   "source": [
    "Ta thấy kết quả gần nhất với đáp án [d] : 460,000"
   ]
  },
  {
   "cell_type": "markdown",
   "metadata": {},
   "source": [
    "## Câu 2 : [d]\n",
    "Trả lời : <br>\n",
    "Ta cần biến đổi lại bất đẳng thức [c] và [d] cho dễ tính toán <br>\n",
    "[c]  Parrondo and Van den Broek $\\epsilon \\le \\sqrt{\\frac{1}{N}(2\\epsilon + \\ln{\\frac{6m_{H}(2N)}{\\delta}})}$ <br>\n",
    "            $\\Leftrightarrow$ $\\epsilon^{2} - 2\\epsilon\\frac{1}{N} \\le \\frac{1}{N}\\ln{\\frac{6m_H{2N}}{\\delta}}$ <br>\n",
    "            $\\Leftrightarrow$ $(\\epsilon - \\frac{1}{N})^{2} \\le \\frac{1}{N}\\ln{\\frac{6m_H{2N}}{\\delta}} + \\frac{1}{N^2})$ <br>\n",
    " Căn 2 vế ta được : $\\epsilon - \\frac{1}{N} \\le \\sqrt{\\frac{1}{N}\\ln{\\frac{6m_H{2N}}{\\delta}} + \\frac{1}{N^2}}$ <br>\n",
    "             $\\Leftrightarrow$ $\\epsilon \\le \\sqrt{\\frac{1}{N}\\ln{\\frac{6m_H{2N}}{\\delta}} + \\frac{1}{N^2}} + \\frac{1}{N}$ <br>\n",
    "             $\\Leftrightarrow$ $\\epsilon \\le \\frac{1 + \\sqrt{N\\ln{\\frac{6m_H{2N}}{\\delta}} + 1}}{N}$ <br>\n",
    "[d] Devroye : $\\epsilon \\le \\sqrt{\\frac{1}{2N}(4\\epsilon(1 + \\epsilon)) + \\ln{\\frac{4m_{H}(N^{2})}{\\delta}}}$"
   ]
  },
  {
   "cell_type": "markdown",
   "metadata": {},
   "source": [
    "## Câu 4 : [e]\n",
    "Chúng ta xét hypothesis $H_1$ : $h(x) = ax$ <br>\n",
    "Minimizes the mean squared error $E_{in} = \\sum_{i = 1}^{2} (y_i - ax_i)^2$ <br>\n",
    "Tìm local minium ta xét đạo hàm mean squared error theo $a$: <br>\n",
    "         $$\\frac{\\partial E_{in}}{\\partial a} = \\sum_{i = 1}^{2} -2x_i(y_i - ax_i) = 0$$ <br>\n",
    "           $$\\frac{\\partial E_{in}}{\\partial a} = \\sum_{i = 1}^{2} x_iy_i - a\\sum_{i = 1}^{2}x_i^{2} = 0$$ <br>\n",
    "           $$x_1y_1 + x_2y_2 = a(x_1^2 + x_2^2)$$ <br>\n",
    "           $$\\hat{a} = \\frac{x_1y_1 + x_2y_2}{x_1^2 + x_2^2}$$ <br>\n",
    "\n",
    "Bây giờ ta đi tính $\\overline g(x)$ <br>\n",
    "$$\\overline g(x) \\approx \\frac{1}{K}\\sum_{i = 1}^{K} g^{(D_i)}(x)$$ <br>\n",
    "với $$g^{(D_i)}(x) \\approx \\hat{a}^{D_i}x$$ <br>\n",
    "$$\\Rightarrow \\overline g(x) \\approx \\frac{1}{K}\\sum_{i = 1}^{K} \\hat{a}^{(D_i)}x$$ <br>\n",
    "$$\\Rightarrow \\overline g(x) \\approx \\overline ax $$ <br>\n",
    "Trong đó $\\overline a$  là trung bình của $\\hat{a}^{(D_i)}$ với tập dataset $D_i$ <br>\n",
    "$$\\hat{a}^{(D_i)} = \\frac{x_1^{(D_i)}y_1^{(D_i)} + x_2^{(D_i)}y_2^{(D_i)}}{(x_1^{(D_i)})^2 + (x_2^{(D_i)})^2}$$ \n",
    "Ta viết 1 đoạn chương trình để tính $\\overline a$ <br>"
   ]
  },
  {
   "cell_type": "code",
   "execution_count": 2,
   "metadata": {},
   "outputs": [
    {
     "name": "stdout",
     "output_type": "stream",
     "text": [
      "a trung bình : 1.42x\n"
     ]
    }
   ],
   "source": [
    "import numpy as np\n",
    "def Tinh_hat_a(K = 100):\n",
    "    \"\"\"\n",
    "    hàm tính hat{a} xấp xỉ a\n",
    "    input : k = số lượng mẫu(data set)\n",
    "    ouput : trả vể một list hat_a \n",
    "    \"\"\"\n",
    "    a_hat = np.zeros(K)\n",
    "    \"random k giá trị trong khoảng [-1, 1] cho x1, x2\"\n",
    "    x1 = np.random.uniform(-1, 1, K)\n",
    "    y1 = np.sin(np.pi*x1)\n",
    "    x2 = np.random.uniform(-1, 1, K)\n",
    "    y2 = np.sin(np.pi*x2)\n",
    "    \n",
    "    a_hat = (x1*y1 + x2*y2)/(x1**2 + x2**2)\n",
    "    return a_hat\n",
    "a_hat = Tinh_hat_a(K = 10000)\n",
    "\"tính a trung bình\"\n",
    "print(\"a trung bình : \" + str(round(np.mean(a_hat), 2)) + \"x\")"
   ]
  },
  {
   "cell_type": "markdown",
   "metadata": {},
   "source": [
    "Ta thấy kết quả không giống với các lựa chọn nên ta chọn [3]"
   ]
  },
  {
   "cell_type": "markdown",
   "metadata": {},
   "source": [
    "## Câu 9 : [b]\n",
    "Trả lời : <br>\n",
    "Chúng ta tạo ra một số hypothesis $H_1, H_2, H_3$ <br>\n",
    "$H_1$ với breakpoint $k = 2$ và $d_{vc} = 1$ <br>\n",
    "![title](img/cau09_1.png)\n",
    "$H_1$ với breakpoint $k = 2$ và $d_{vc} = 1$ <br>\n",
    "![title](img/cau09_2.png)\n",
    "$H_1$ $d_{vc} = 3$ <br>\n",
    "![title](img/cau09_3.png)\n",
    "$\\cap_{k = 1}^{2} H_k = H_1 \\cap H_2 = \\emptyset$ <br>\n",
    "$d_{vc} = \\emptyset$ <br>\n",
    "$ H_1 \\cap H_3 = H_1$ <br>\n",
    "$d_{vc}(H_1) = 1$ <br>\n",
    "ta có : $\\{d_{vc}(H_k)\\}_{k = 1}^{2} = \\{1, 3\\}$ <br>\n",
    "    $\\rightarrow$ $min\\{d_{vc}(H_k)\\}_{k = 1}^{2} = 1$ <br>\n",
    "chúng ta có thể thấy bound này khá chặt, ta thấy giao của 2 hypothesis bất kì nếu hypothesis $H_1$ có $d_{vc}$ nhỏ hơn  $H_2$ thì số điểm mà $H_1$ shatter được thì $H_2$ cũng shatter được hay nói cách khác $d_{vc}(H_1 \\cap H_2) = d_{vc}(H_1)$ hay $= min(d_{vc}(H_1), d_{vc}(H_2))$ <br>\n",
    "Câu trả lời [b]"
   ]
  },
  {
   "cell_type": "markdown",
   "metadata": {},
   "source": [
    "## Câu 10 : [e]\n",
    "Tương tự như như trên ta cũng lấy 3 hypothesis <br>\n",
    "Ta xét : $H_1 \\cup H_3 = H_3$ <br>\n",
    "$d_{vc}(H_3) = 3$ <br>\n",
    "$H_1 \\cup H_2$ hợp của 2 hypothesis bất kì nếu hypothesis $H_1$ có $d_{vc}$ nhỏ hơn  $H_2$ thì số điểm mà $H_1$ shatter được thì $H_2$ cũng shatter được hay nói cách khác $d_{vc}(H_1 \\cup H_2) = d_{vc}(H_2) $ hay $= min(d_{vc}(H_1), d_{vc}(H_2))$ <br>\n",
    "\n",
    "Với k = 2 và $\\{d_{vc}(H_k)\\}_{k = 1}^{2} = \\{1, 1\\}$ <br>\n",
    "$d_{vc}(H_2) = 3 \\rightarrow 1 + 1 + 1 \\rightarrow 2 - 1 + \\sum_{k = 1}^{2}\\{d_{vc}(H_k)\\} \\rightarrow K - 1 + \\sum_{k = 1}^{2}\\{d_{vc}(H_k)\\}$ <br>\n",
    "Vậy đáp án là [e]"
   ]
  }
 ],
 "metadata": {
  "kernelspec": {
   "display_name": "Python 3",
   "language": "python",
   "name": "python3"
  },
  "language_info": {
   "codemirror_mode": {
    "name": "ipython",
    "version": 3
   },
   "file_extension": ".py",
   "mimetype": "text/x-python",
   "name": "python",
   "nbconvert_exporter": "python",
   "pygments_lexer": "ipython3",
   "version": "3.6.4"
  }
 },
 "nbformat": 4,
 "nbformat_minor": 2
}
